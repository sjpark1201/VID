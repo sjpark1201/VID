{
  "nbformat": 4,
  "nbformat_minor": 0,
  "metadata": {
    "colab": {
      "name": "VID_symptom_display_test.ipynb",
      "provenance": [],
      "include_colab_link": true
    },
    "kernelspec": {
      "name": "python3",
      "display_name": "Python 3"
    },
    "language_info": {
      "name": "python"
    }
  },
  "cells": [
    {
      "cell_type": "markdown",
      "metadata": {
        "id": "view-in-github",
        "colab_type": "text"
      },
      "source": [
        "<a href=\"https://colab.research.google.com/github/sjpark1201/VID/blob/main/VID_symptom_display_test.ipynb\" target=\"_parent\"><img src=\"https://colab.research.google.com/assets/colab-badge.svg\" alt=\"Open In Colab\"/></a>"
      ]
    },
    {
      "cell_type": "code",
      "execution_count": null,
      "metadata": {
        "id": "TUAlx_ptqi3L",
        "colab": {
          "base_uri": "https://localhost:8080/"
        },
        "outputId": "e27c1527-c7c8-4129-82bf-961fc9150ba9"
      },
      "outputs": [
        {
          "output_type": "stream",
          "name": "stdout",
          "text": [
            "             influenza (flu)  rhinovirus (common cold)  viral_pneumonia\n",
            "mild_fever                 1                         1                1\n",
            "sore_throat                1                         0                0\n",
            "cough                      1                         1                0\n",
            "v_and/or_d                 1                         0                1\n",
            "mild_fever     1\n",
            "sore_throat    1\n",
            "cough          1\n",
            "v_and/or_d     1\n",
            "dtype: int64\n",
            "             influenza (flu)  rhinovirus (common cold)  viral_pneumonia\n",
            "mild_fever              True                      True             True\n",
            "sore_throat             True                     False            False\n",
            "cough                   True                      True            False\n",
            "v_and/or_d              True                     False             True\n",
            "[[ True  True  True]\n",
            " [ True False False]\n",
            " [ True  True False]\n",
            " [ True False  True]]\n",
            "[4 2 2]\n",
            "[0]\n",
            "Diagnosis: influenza (flu)\n"
          ]
        }
      ],
      "source": [
        "# Code written and debugged by Sean Park\n",
        "# Time: 5 Hours \n",
        "\n",
        "import numpy as np\n",
        "import pandas as pd\n",
        "\n",
        "# erase later - test data set \n",
        "\n",
        "# 1 = yes whereas 0 = no\n",
        "\n",
        "d = {'influenza (flu)': [1, 1, 1, 1], 'rhinovirus (common cold)' : [1, 0, 1, 0], 'viral_pneumonia' : [1, 0, 0, 1]}\n",
        "viral_illness_dataset = pd.DataFrame(data = d, index = ['mild_fever', 'sore_throat', 'cough', 'v_and/or_d' ])\n",
        "\n",
        "print(viral_illness_dataset)\n",
        "\n",
        "# CODE EXPLANATION: Compares patient symptom input to the Viral Illness Dataset. Essentially, the code below answers the following question: Based on the patient's symptoms, which disease possesses the most number of similar symptoms to the patients? \n",
        "\n",
        "# erase later - test user input (ANSWER: SHOULD BE INFLUENZA) \n",
        "symptoms = [1, 1, 1, 1]\n",
        "my_symptoms = pd.Series(data = symptoms, index = ['mild_fever', 'sore_throat', 'cough', 'v_and/or_d' ]) # Patient's symptoms are converted to a Pandas series \n",
        "\n",
        "print(my_symptoms)\n",
        "\n",
        "symptom_presence_evaluation = viral_illness_dataset.eq(my_symptoms, axis = 0) # compares the patient's symptoms to our viral_illness_dataset \n",
        "\n",
        "print(symptom_presence_evaluation)\n",
        "\n",
        "symptom_presence_evaluation_np = symptom_presence_evaluation.to_numpy() # converts the Pandas dataframe into a numpy array \n",
        "\n",
        "print(symptom_presence_evaluation_np)\n",
        "\n",
        "symptom_matching = np.count_nonzero(symptom_presence_evaluation_np, axis = 0) # counts the number of times \"True\" appears across a column (per disease)\n",
        "\n",
        "print(symptom_matching)\n",
        "\n",
        "# CODE EXPLATION: Outputs the most likely viral disease the patient possesses based on which disease possesed the most similar symptoms that they descriubed\n",
        "\n",
        "most_alike_symptoms = np.where(symptom_matching == np.amax(symptom_matching)) # find the location with the maximum value of \"True\" and return that index in a tuple \n",
        "\n",
        "disease_value = most_alike_symptoms[0] # converts value in tuple to array\n",
        "\n",
        "print(disease_value)\n",
        "\n",
        "# Certain Exceptions Occur when a disease has a specific symptom that no other disease possesses (CODE LATER: Shingles, viral pneumonia)\n",
        "\n",
        "# Based on disease_value, we will convert this value to a specific disease\n",
        "\n",
        "if disease_value[0] == 0:\n",
        "  viral_disease = 'influenza (flu)'\n",
        "\n",
        "if disease_value[0] == 1:\n",
        "  viral_disease = 'hepatitis a'\n",
        "\n",
        "if disease_value[0] == 2:\n",
        "  viral_disease = 'hepatitis b or c'\n",
        "\n",
        "if disease_value[0] == 3:\n",
        "  viral_disease = 'marlaria'\n",
        "\n",
        "if disease_value[0] == 4:\n",
        "  viral_disease = 'chicken pox'\n",
        "\n",
        "if disease_value[0] == 5:\n",
        "  viral_disease = 'dengue fever'\n",
        "\n",
        "if disease_value[0] == 6:\n",
        "  viral_disease = 'rhinovirus (common cold)'\n",
        "\n",
        "if disease_value[0] == 7:\n",
        "  viral_disease = 'viral pneumonia'\n",
        "\n",
        "if disease_value[0] == 8:\n",
        "  viral_disease = 'shingles'\n",
        "\n",
        "if disease_value[0] == 9:\n",
        "  viral_disease = 'covid-19'\n",
        "\n",
        "print('Diagnosis:', viral_disease)"
      ]
    }
  ]
}